{
 "cells": [
  {
   "cell_type": "markdown",
   "id": "f2931cbd",
   "metadata": {},
   "source": [
    "# #Import Libraries"
   ]
  },
  {
   "cell_type": "code",
   "execution_count": 22,
   "id": "ef4b4889",
   "metadata": {},
   "outputs": [
    {
     "name": "stderr",
     "output_type": "stream",
     "text": [
      "[nltk_data] Downloading package vader_lexicon to\n",
      "[nltk_data]     C:\\Users\\VINAY\\AppData\\Roaming\\nltk_data...\n"
     ]
    }
   ],
   "source": [
    "import os\n",
    "import matplotlib.pyplot as plt\n",
    "from bs4 import BeautifulSoup\n",
    "import pandas as pd\n",
    "from urllib.request import urlopen, Request\n",
    "import nltk\n",
    "nltk.download('vader_lexicon')\n",
    "from nltk.sentiment.vader import SentimentIntensityAnalyzer"
   ]
  },
  {
   "cell_type": "markdown",
   "id": "209cd706",
   "metadata": {},
   "source": [
    "# Store the data\n",
    "now we will extract ans store the date, the time and the news headline data from \n",
    " url= https://finviz.com/quote.ashx?t=\n",
    " note= you can add the stock ticker after the url to get the news headlines of that particular stock.\n",
    " we will work with Amazon, Google and tesla stock."
   ]
  },
  {
   "cell_type": "code",
   "execution_count": 14,
   "id": "0dab3a06",
   "metadata": {},
   "outputs": [],
   "source": [
    "web_url=\"https://finviz.com/quote.ashx?t=\"\n",
    "news_tables={}\n",
    "tickers=['AMZN','GOOG','TSLA']\n",
    "for tick in tickers:\n",
    "    url=web_url+tick\n",
    "    req= Request(url=url, headers={\"user-Agent\":\"chrome\"})\n",
    "    response=urlopen(req)\n",
    "    html=BeautifulSoup(response,\"html.parser\")\n",
    "    news_table=html.find(id=\"news-table\")\n",
    "    news_tables[tick]=news_table"
   ]
  },
  {
   "cell_type": "markdown",
   "id": "1316d734",
   "metadata": {},
   "source": [
    "# Print the Data\n",
    "lets display the contents of the news_tables for Amzn and in similar way we can do for the other two stocks."
   ]
  },
  {
   "cell_type": "code",
   "execution_count": 15,
   "id": "dc61bdaf",
   "metadata": {
    "scrolled": true
   },
   "outputs": [
    {
     "name": "stdout",
     "output_type": "stream",
     "text": [
      "This Ridiculously Cheap Warren Buffett Stock Could Make You Rich\n",
      "Sep-19-22 06:00AM\n",
      "Amazon halts construction of new warehouses in Spain until 2024 - El Confidencial\n",
      "05:41AM\n",
      "Amazon halts construction of new warehouses in Spain until 2024 - El Confidencial\n",
      "05:39AM\n",
      "If You Haven't Done So Yet, It's Time to Buy Qualcomm Stock\n",
      "Sep-18-22 11:06AM\n"
     ]
    }
   ],
   "source": [
    "amazon = news_tables['AMZN']\n",
    "amazon_tr = amazon.findAll('tr')\n",
    "\n",
    "for x, table_row in enumerate(amazon_tr):\n",
    "    a_text = table_row.a.text\n",
    "    td_text = table_row.td.text\n",
    "    print(a_text)\n",
    "    print(td_text)\n",
    "    if x == 3:\n",
    "        break"
   ]
  },
  {
   "cell_type": "markdown",
   "id": "4203d10a",
   "metadata": {},
   "source": [
    "# parse the data into a python list\n"
   ]
  },
  {
   "cell_type": "code",
   "execution_count": 20,
   "id": "82b1e2b1",
   "metadata": {},
   "outputs": [],
   "source": [
    "news_list = []\n",
    "\n",
    "for file_name, news_table in news_tables.items():\n",
    "    for i in news_table.findAll('tr'):\n",
    "        \n",
    "        text = i.a.get_text() \n",
    "        \n",
    "        date_scrape = i.td.text.split()\n",
    "\n",
    "        if len(date_scrape) == 1:\n",
    "            time = date_scrape[0]\n",
    "            \n",
    "        else:\n",
    "            date = date_scrape[0]\n",
    "            time = date_scrape[1]\n",
    "\n",
    "        tick = file_name.split('_')[0]\n",
    "        \n",
    "        news_list.append([tick, date, time, text])"
   ]
  },
  {
   "cell_type": "markdown",
   "id": "930aefa1",
   "metadata": {},
   "source": [
    "# Sentiment analysis\n",
    "we can now use the nltk.sntiment.vader to perform sentiment analysis."
   ]
  },
  {
   "cell_type": "code",
   "execution_count": 25,
   "id": "8313143a",
   "metadata": {},
   "outputs": [
    {
     "name": "stdout",
     "output_type": "stream",
     "text": [
      "  ticker        date     time  \\\n",
      "0   AMZN  2022-09-19  06:00AM   \n",
      "1   AMZN  2022-09-19  05:41AM   \n",
      "2   AMZN  2022-09-19  05:39AM   \n",
      "3   AMZN  2022-09-18  11:06AM   \n",
      "4   AMZN  2022-09-18  10:00AM   \n",
      "\n",
      "                                            headline    neg    neu    pos  \\\n",
      "0  This Ridiculously Cheap Warren Buffett Stock C...  0.171  0.571  0.257   \n",
      "1  Amazon halts construction of new warehouses in...  0.000  0.866  0.134   \n",
      "2  Amazon halts construction of new warehouses in...  0.000  0.866  0.134   \n",
      "3  If You Haven't Done So Yet, It's Time to Buy Q...  0.000  1.000  0.000   \n",
      "4  3 Top Growth Stocks for the New Upcoming Bull ...  0.000  0.614  0.386   \n",
      "\n",
      "   compound  \n",
      "0    0.2960  \n",
      "1    0.1779  \n",
      "2    0.1779  \n",
      "3    0.0000  \n",
      "4    0.5267  \n"
     ]
    }
   ],
   "source": [
    "vader = SentimentIntensityAnalyzer()\n",
    "\n",
    "columns = ['ticker', 'date', 'time', 'headline']\n",
    "\n",
    "news_df = pd.DataFrame(news_list, columns=columns)\n",
    "\n",
    "scores = news_df['headline'].apply(vader.polarity_scores).tolist()\n",
    "\n",
    "scores_df = pd.DataFrame(scores)\n",
    "\n",
    "news_df = news_df.join(scores_df, rsuffix='_right')\n",
    "\n",
    "news_df['date'] = pd.to_datetime(news_df.date).dt.date\n",
    "\n",
    "print(news_df.head())"
   ]
  },
  {
   "cell_type": "markdown",
   "id": "085f5456",
   "metadata": {},
   "source": [
    "# Visualize the Sentiment Scores"
   ]
  },
  {
   "cell_type": "code",
   "execution_count": 28,
   "id": "fdca131e",
   "metadata": {},
   "outputs": [
    {
     "data": {
      "image/png": "[encoded data removed]",
      "text/plain": [
       "<Figure size 720x432 with 1 Axes>"
      ]
     },
     "metadata": {
      "needs_background": "light"
     },
     "output_type": "display_data"
    }
   ],
   "source": [
    "plt.rcParams['figure.figsize']=[10,6]\n",
    "\n",
    "mean_scores=news_df.groupby(['ticker', 'date' ]).mean()\n",
    "\n",
    "mean_scores=mean_scores.unstack()\n",
    "\n",
    "mean_scores=mean_scores.xs('compound', axis = 'columns').transpose()\n",
    "\n",
    "mean_scores.plot(kind='bar')\n",
    "\n",
    "plt.grid()\n",
    "\n",
    "plt.show()\n",
    "\n"
   ]
  },
  {
   "cell_type": "code",
   "execution_count": null,
   "id": "9eeebb39",
   "metadata": {},
   "outputs": [],
   "source": [
    "/"
   ]
  }
 ],
 "metadata": {
  "kernelspec": {
   "display_name": "Python 3 (ipykernel)",
   "language": "python",
   "name": "python3"
  },
  "language_info": {
   "codemirror_mode": {
    "name": "ipython",
    "version": 3
   },
   "file_extension": ".py",
   "mimetype": "text/x-python",
   "name": "python",
   "nbconvert_exporter": "python",
   "pygments_lexer": "ipython3",
   "version": "3.9.7"
  }
 },
 "nbformat": 4,
 "nbformat_minor": 5
}
